{
 "cells": [
  {
   "cell_type": "code",
   "execution_count": 12,
   "metadata": {},
   "outputs": [],
   "source": [
    "\n",
    "from sklearn.cluster import KMeans\n",
    "from tensorflow.keras.datasets import mnist\n",
    "import numpy as np\n",
    "import sklearn\n",
    "import tensorflow.keras as keras\n",
    "import matplotlib.pyplot as plt\n",
    "from tensorflow.keras.layers import Input, Dense, Conv2D, MaxPooling2D, UpSampling2D\n",
    "from tensorflow.keras.models import Model\n",
    "from tensorflow.keras import backend as K\n",
    "\n",
    "#----------------------------------\n",
    "#clustering\n",
    "def Clustering(data,ClusterNumber):\n",
    "    # Runs in parallel 4 CPUs\n",
    "    kmeans = KMeans(n_clusters=ClusterNumber, n_init=20, n_jobs=7)\n",
    "    # Train K-Means.\n",
    "    y_pred_kmeans = kmeans.fit_predict(data)\n",
    "    # Evaluate the K-Means clustering accuracy.\n",
    "    return kmeans,y_pred_kmeans\n",
    "#----------------------------------\n",
    "#PreProcessing    \n",
    "def PreProcessing(data):\n",
    "    data = np.divide(255)\n",
    "\n",
    "#-----------------------------------\n",
    "#AutoEncoder Model\n",
    "def AutoEncoder(InputSize=784,encoding_dim=32):\n",
    "    input_img = keras.layers.Input(shape=(InputSize,))\n",
    "    encoded = keras.layers.Dense(encoding_dim, activation='relu')(input_img)\n",
    "    decoded =  keras.layers.Dense(784, activation='sigmoid')(encoded)\n",
    "\n",
    "    autoencoder = keras.Model(input_img, decoded)\n",
    "    encoder = keras.Model(input_img, encoded)\n",
    "    # create a placeholder for an encoded (32-dimensional) input\n",
    "    encoded_input = keras.Input(shape=(encoding_dim,))\n",
    "    # retrieve the last layer of the autoencoder model\n",
    "    decoder_layer = autoencoder.layers[-1]\n",
    "    # create the decoder model\n",
    "    decoder = keras.Model(encoded_input, decoder_layer(encoded_input))\n",
    "    autoencoder.compile(optimizer='adadelta', loss='binary_crossentropy', metrics=['mse'])\n",
    "    return autoencoder,encoder, decoder\n",
    "\n",
    "#-----------------------------------\n",
    "#AutoEncoder Model\n",
    "def CNNAutoEncoder(InputSize=(28,28,1)):\n",
    "    input_img = Input(shape=InputSize) \n",
    "\n",
    "    x = Conv2D(16, (3, 3), activation='relu', padding='same')(input_img)\n",
    "    x = MaxPooling2D((2, 2), padding='same')(x)\n",
    "    x = Conv2D(8, (3, 3), activation='relu', padding='same')(x)\n",
    "    x = MaxPooling2D((2, 2), padding='same')(x)\n",
    "    x = Conv2D(8, (3, 3), activation='relu', padding='same')(x)\n",
    "    encoded = MaxPooling2D((2, 2), padding='same')(x)\n",
    "\n",
    "    # at this point the representation is (4, 4, 8) i.e. 128-dimensional\n",
    "    decoder_input = Input(shape=(4, 4, 8,))\n",
    "    x = Conv2D(8, (3, 3), activation='relu', padding='same')(decoder_input)\n",
    "    x = UpSampling2D((2, 2))(x)\n",
    "    x = Conv2D(8, (3, 3), activation='relu', padding='same')(x)\n",
    "    x = UpSampling2D((2, 2))(x)\n",
    "    x = Conv2D(16, (3, 3), activation='relu')(x)\n",
    "    x = UpSampling2D((2, 2))(x)\n",
    "    decoded = Conv2D(1, (3, 3), activation='sigmoid', padding='same')(x)\n",
    "\n",
    "    decoder = keras.Model(decoder_input,decoded)\n",
    "    autoencoder = Model(input_img, decoder(encoded))\n",
    "    encoder = keras.Model(input_img, encoded)\n",
    "    \n",
    "    #decoder_input = keras.Input(shape=(4,4,8,))\n",
    "    #xx= autoencoder.layers[-7]\n",
    "    #xx=xx(decoder_input)\n",
    "    \n",
    "    \n",
    "    \n",
    "    autoencoder.compile(optimizer='adadelta', loss='binary_crossentropy')\n",
    "    \n",
    "    \n",
    "    return autoencoder,encoder, decoder\n",
    "    \n",
    "\n",
    "#-----------------------------------\n",
    "# Cluster Visualizer\n",
    "#This methos get a buch of Picture and visulize them\n",
    "def Visulizer(Pictures):\n",
    "    plt.figure(figsize=(20, 4))\n",
    "    for i in range(Pictures.shape[0]):\n",
    "        # display original\n",
    "        ax = plt.subplot(1, 20,  i+1)\n",
    "        plt.imshow(Pictures[i].reshape(28, 28))\n",
    "        plt.gray()\n",
    "        ax.get_xaxis().set_visible(False)\n",
    "        ax.get_yaxis().set_visible(False)\n",
    "    plt.show()"
   ]
  },
  {
   "cell_type": "code",
   "execution_count": 2,
   "metadata": {},
   "outputs": [
    {
     "name": "stdout",
     "output_type": "stream",
     "text": [
      "(60000, 784)\n",
      "(10000, 784)\n",
      "Train on 60000 samples, validate on 60000 samples\n",
      "Epoch 1/5\n",
      "60000/60000 [==============================] - 4s 64us/step - loss: 0.3557 - mean_squared_error: 0.0970 - val_loss: 0.2730 - val_mean_squared_error: 0.0691\n",
      "Epoch 2/5\n",
      "60000/60000 [==============================] - 3s 55us/step - loss: 0.2662 - mean_squared_error: 0.0668 - val_loss: 0.2576 - val_mean_squared_error: 0.0637\n",
      "Epoch 3/5\n",
      "60000/60000 [==============================] - 3s 54us/step - loss: 0.2462 - mean_squared_error: 0.0593 - val_loss: 0.2348 - val_mean_squared_error: 0.0551\n",
      "Epoch 4/5\n",
      "60000/60000 [==============================] - 4s 59us/step - loss: 0.2249 - mean_squared_error: 0.0517 - val_loss: 0.2158 - val_mean_squared_error: 0.0485\n",
      "Epoch 5/5\n",
      "60000/60000 [==============================] - 3s 53us/step - loss: 0.2085 - mean_squared_error: 0.0461 - val_loss: 0.2019 - val_mean_squared_error: 0.0439\n"
     ]
    }
   ],
   "source": [
    "#AutoEncoder Example\n",
    "from tensorflow.keras.datasets import mnist\n",
    "\n",
    "(x_train, _), (x_test, _) = mnist.load_data()\n",
    "x_train = x_train.astype('float32') / 255.\n",
    "x_test = x_test.astype('float32') / 255.\n",
    "\n",
    "x_train = x_train.reshape((len(x_train), np.prod(x_train.shape[1:])))\n",
    "x_test = x_test.reshape((len(x_test), np.prod(x_test.shape[1:])))\n",
    "print(x_train.shape)\n",
    "print( x_test.shape)\n",
    "\n",
    "autoencoder,encoder, decoder = AutoEncoder()\n",
    "autoencoder.fit(x_train, x_train,\n",
    "                epochs=5,\n",
    "                batch_size=256,\n",
    "                shuffle=True,\n",
    "                validation_data=(x_train, x_train))\n",
    "# encode and decode some digits\n",
    "\n",
    "encoded_imgs = encoder.predict(x_train)\n",
    "decoded_imgs = decoder.predict(encoded_imgs)\n"
   ]
  },
  {
   "cell_type": "code",
   "execution_count": 13,
   "metadata": {},
   "outputs": [
    {
     "data": {
      "image/png": "[encoded data removed]",
      "text/plain": [
       "<Figure size 1440x288 with 10 Axes>"
      ]
     },
     "metadata": {
      "needs_background": "light"
     },
     "output_type": "display_data"
    },
    {
     "data": {
      "image/png": "[encoded data removed]",
      "text/plain": [
       "<Figure size 1440x288 with 10 Axes>"
      ]
     },
     "metadata": {
      "needs_background": "light"
     },
     "output_type": "display_data"
    }
   ],
   "source": [
    "# Visualize the decoded and orginal of 10 first train data\n",
    "Visulizer(x_train[:10])\n",
    "Visulizer(decoded_imgs[:10])"
   ]
  },
  {
   "cell_type": "code",
   "execution_count": 14,
   "metadata": {},
   "outputs": [],
   "source": [
    "#Clusterin\n",
    "k_means,label = Clustering(encoded_imgs,10)"
   ]
  },
  {
   "cell_type": "code",
   "execution_count": 15,
   "metadata": {},
   "outputs": [
    {
     "name": "stdout",
     "output_type": "stream",
     "text": [
      "(6302, 784) (60000,)\n",
      "[7 5 2 4 9 1 6 8 4 0 8 4 7 1 4 9 1 6 2 6]\n"
     ]
    },
    {
     "data": {
      "image/png": "[encoded data removed]",
      "text/plain": [
       "<Figure size 1440x288 with 9 Axes>"
      ]
     },
     "metadata": {
      "needs_background": "light"
     },
     "output_type": "display_data"
    }
   ],
   "source": [
    "classONE = x_train[label == 1]\n",
    "print(classONE.shape,label.shape)\n",
    "print(label[:20])\n",
    "Visulizer(classONE[1:10])\n"
   ]
  },
  {
   "cell_type": "code",
   "execution_count": 17,
   "metadata": {
    "scrolled": true
   },
   "outputs": [
    {
     "name": "stdout",
     "output_type": "stream",
     "text": [
      "Train on 60000 samples, validate on 10000 samples\n",
      "Epoch 1/2\n",
      "60000/60000 [==============================] - 1799s 30ms/step - loss: 0.2019 - val_loss: 0.1575\n",
      "Epoch 2/2\n",
      "60000/60000 [==============================] - 1688s 28ms/step - loss: 0.1492 - val_loss: 0.1394\n"
     ]
    },
    {
     "data": {
      "text/plain": [
       "<tensorflow.python.keras.callbacks.History at 0x2210846c710>"
      ]
     },
     "execution_count": 17,
     "metadata": {},
     "output_type": "execute_result"
    }
   ],
   "source": [
    "#CNN Example\n",
    "\n",
    "from tensorflow.keras.datasets import mnist\n",
    "import numpy as np\n",
    "\n",
    "(x_train, _), (x_test, _) = mnist.load_data()\n",
    "\n",
    "x_train = x_train.astype('float32') / 255.\n",
    "x_test = x_test.astype('float32') / 255.\n",
    "x_train = np.reshape(x_train, (len(x_train), 28, 28, 1))  # adapt this if using `channels_first` image data format\n",
    "x_test = np.reshape(x_test, (len(x_test), 28, 28, 1))  # adapt this if using `channels_first` image data format\n",
    "\n",
    "\n",
    "\n",
    "from tensorflow.keras.callbacks import TensorBoard\n",
    "\n",
    "autoencoder,encoder, decoder = CNNAutoEncoder()\n",
    "\n",
    "autoencoder.fit(x_train, x_train,\n",
    "                epochs=2,\n",
    "                batch_size=128,\n",
    "                shuffle=True,\n",
    "                validation_data=(x_test, x_test),\n",
    "                callbacks=[TensorBoard(log_dir='/tmp/autoencoder')])\n",
    "                "
   ]
  },
  {
   "cell_type": "code",
   "execution_count": 62,
   "metadata": {},
   "outputs": [
    {
     "name": "stdout",
     "output_type": "stream",
     "text": [
      "_________________________________________________________________\n",
      "Layer (type)                 Output Shape              Param #   \n",
      "=================================================================\n",
      "input_43 (InputLayer)        (None, 28, 28, 1)         0         \n",
      "_________________________________________________________________\n",
      "conv2d_168 (Conv2D)          (None, 28, 28, 16)        160       \n",
      "_________________________________________________________________\n",
      "max_pooling2d_72 (MaxPooling (None, 14, 14, 16)        0         \n",
      "_________________________________________________________________\n",
      "conv2d_169 (Conv2D)          (None, 14, 14, 8)         1160      \n",
      "_________________________________________________________________\n",
      "max_pooling2d_73 (MaxPooling (None, 7, 7, 8)           0         \n",
      "_________________________________________________________________\n",
      "conv2d_170 (Conv2D)          (None, 7, 7, 8)           584       \n",
      "_________________________________________________________________\n",
      "max_pooling2d_74 (MaxPooling (None, 4, 4, 8)           0         \n",
      "_________________________________________________________________\n",
      "model_53 (Model)             (None, 28, 28, 1)         2481      \n",
      "=================================================================\n",
      "Total params: 4,385\n",
      "Trainable params: 4,385\n",
      "Non-trainable params: 0\n",
      "_________________________________________________________________\n"
     ]
    }
   ],
   "source": [
    "autoencoder.summary()\n"
   ]
  },
  {
   "cell_type": "code",
   "execution_count": 19,
   "metadata": {},
   "outputs": [
    {
     "data": {
      "image/png": "[encoded data removed]",
      "text/plain": [
       "<Figure size 1440x288 with 10 Axes>"
      ]
     },
     "metadata": {
      "needs_background": "light"
     },
     "output_type": "display_data"
    },
    {
     "data": {
      "image/png": "[encoded data removed]",
      "text/plain": [
       "<Figure size 1440x288 with 10 Axes>"
      ]
     },
     "metadata": {
      "needs_background": "light"
     },
     "output_type": "display_data"
    }
   ],
   "source": [
    "# encode and decode some digits\n",
    "\n",
    "encoded_imgs = encoder.predict(x_train)\n",
    "decoded_imgs = decoder.predict(encoded_imgs)\n",
    "Visulizer(x_train[:10])\n",
    "Visulizer(decoded_imgs[:10])"
   ]
  },
  {
   "cell_type": "code",
   "execution_count": 30,
   "metadata": {},
   "outputs": [
    {
     "data": {
      "image/png": "[encoded data removed]",
      "text/plain": [
       "<Figure size 108x108 with 1 Axes>"
      ]
     },
     "metadata": {
      "needs_background": "light"
     },
     "output_type": "display_data"
    },
    {
     "data": {
      "image/png": "[encoded data removed]",
      "text/plain": [
       "<Figure size 108x108 with 1 Axes>"
      ]
     },
     "metadata": {
      "needs_background": "light"
     },
     "output_type": "display_data"
    }
   ],
   "source": [
    "#----------------------------------------\n",
    "# Zero Component analyze\n",
    "#X is numpy array which containd all pictures\n",
    "def ZCA(X):\n",
    "    X = X.reshape(X.shape[0], X.shape[1]*X.shape[2]*X.shape[3])\n",
    "    X_norm = X / 255.\n",
    "\n",
    "    X_norm = X_norm - X_norm.mean(axis=0)\n",
    "    X_norm.mean(axis=0)\n",
    "    cov = np.cov(X_norm, rowvar=True)\n",
    "    U,S,V = np.linalg.svd(cov)\n",
    "    epsilon = 0.1\n",
    "    X_ZCA = U.dot(np.diag(1.0/np.sqrt(S + epsilon))).dot(U.T).dot(X_norm)\n",
    "    X_ZCA_rescaled = (X_ZCA - X_ZCA.min()) / (X_ZCA.max() - X_ZCA.min())\n",
    "    return X_ZCA_rescaled\n",
    "\n",
    "def plotImage(X):\n",
    "    plt.figure(figsize=(1.5, 1.5))\n",
    "    plt.imshow(X.reshape(32,32,3))\n",
    "    plt.show()\n",
    "    plt.close()\n",
    "    \n",
    "\n",
    "\n",
    "\n",
    "\n"
   ]
  },
  {
   "cell_type": "code",
   "execution_count": 37,
   "metadata": {},
   "outputs": [
    {
     "data": {
      "image/png": "[encoded data removed]",
      "text/plain": [
       "<Figure size 108x108 with 1 Axes>"
      ]
     },
     "metadata": {
      "needs_background": "light"
     },
     "output_type": "display_data"
    },
    {
     "data": {
      "image/png": "[encoded data removed]",
      "text/plain": [
       "<Figure size 108x108 with 1 Axes>"
      ]
     },
     "metadata": {
      "needs_background": "light"
     },
     "output_type": "display_data"
    }
   ],
   "source": [
    "# Zero Component Analyze\n",
    "(train, _), (_, _) = cifar10.load_data()\n",
    "ZCA_rescaled = ZCA(train[0:10000])\n",
    "plotImage(train[12, :])\n",
    "plotImage(ZCA_rescaled[12, :])"
   ]
  },
  {
   "cell_type": "code",
   "execution_count": null,
   "metadata": {},
   "outputs": [],
   "source": []
  }
 ],
 "metadata": {
  "kernelspec": {
   "display_name": "Python 3",
   "language": "python",
   "name": "python3"
  },
  "language_info": {
   "codemirror_mode": {
    "name": "ipython",
    "version": 3
   },
   "file_extension": ".py",
   "mimetype": "text/x-python",
   "name": "python",
   "nbconvert_exporter": "python",
   "pygments_lexer": "ipython3",
   "version": "3.6.6"
  }
 },
 "nbformat": 4,
 "nbformat_minor": 2
}
