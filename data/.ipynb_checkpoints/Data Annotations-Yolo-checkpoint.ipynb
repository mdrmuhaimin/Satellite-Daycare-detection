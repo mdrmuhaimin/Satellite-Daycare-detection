{
 "cells": [
  {
   "cell_type": "code",
   "execution_count": 1,
   "metadata": {},
   "outputs": [],
   "source": [
    "import pandas as pd\n",
    "import numpy as np\n",
    "import ast\n",
    "import os\n",
    "import cv2\n",
    "from os import getcwd"
   ]
  },
  {
   "cell_type": "markdown",
   "metadata": {},
   "source": [
    "## Setup"
   ]
  },
  {
   "cell_type": "code",
   "execution_count": 2,
   "metadata": {},
   "outputs": [],
   "source": [
    "# File with object annotations\n",
    "da = pd.read_csv('DaycaresAnnotations_original.csv')[['filename', 'region_shape_attributes']].drop_duplicates().reset_index()\n",
    "\n",
    "# Filepaths to folders\n",
    "filepath_to_daycares = 'Daycares/'\n",
    "filepath_to_zca_daycares = 'zca/'\n",
    "filepath_to_nondaycares = 'NonDaycares/'\n",
    "filepath_to_labels = 'labels/'\n",
    "\n",
    "# Name of file that will have annotations\n",
    "save_to_file = 'annotate.txt'\n",
    "image_path_file = 'all.txt'\n",
    "cwd = getcwd()"
   ]
  },
  {
   "cell_type": "code",
   "execution_count": 3,
   "metadata": {},
   "outputs": [
    {
     "name": "stdout",
     "output_type": "stream",
     "text": [
      "Total of ZCA files -  250\n"
     ]
    },
    {
     "data": {
      "text/html": [
       "<div>\n",
       "<style scoped>\n",
       "    .dataframe tbody tr th:only-of-type {\n",
       "        vertical-align: middle;\n",
       "    }\n",
       "\n",
       "    .dataframe tbody tr th {\n",
       "        vertical-align: top;\n",
       "    }\n",
       "\n",
       "    .dataframe thead th {\n",
       "        text-align: right;\n",
       "    }\n",
       "</style>\n",
       "<table border=\"1\" class=\"dataframe\">\n",
       "  <thead>\n",
       "    <tr style=\"text-align: right;\">\n",
       "      <th></th>\n",
       "      <th>zca</th>\n",
       "      <th>filename</th>\n",
       "      <th>index</th>\n",
       "      <th>region_shape_attributes</th>\n",
       "    </tr>\n",
       "  </thead>\n",
       "  <tbody>\n",
       "    <tr>\n",
       "      <th>0</th>\n",
       "      <td>17610_20140903_ZCA.jpg</td>\n",
       "      <td>17610_20140903.jpg</td>\n",
       "      <td>67</td>\n",
       "      <td>{\"name\":\"rect\",\"x\":609,\"y\":634,\"width\":79,\"hei...</td>\n",
       "    </tr>\n",
       "    <tr>\n",
       "      <th>1</th>\n",
       "      <td>17610_20180706_ZCA.jpg</td>\n",
       "      <td>17610_20180706.jpg</td>\n",
       "      <td>79</td>\n",
       "      <td>{\"name\":\"rect\",\"x\":609,\"y\":634,\"width\":79,\"hei...</td>\n",
       "    </tr>\n",
       "    <tr>\n",
       "      <th>2</th>\n",
       "      <td>1713_20131114_ZCA.jpg</td>\n",
       "      <td>1713_20131114.jpg</td>\n",
       "      <td>1247</td>\n",
       "      <td>{\"name\":\"rect\",\"x\":818,\"y\":470,\"width\":61,\"hei...</td>\n",
       "    </tr>\n",
       "    <tr>\n",
       "      <th>3</th>\n",
       "      <td>19472_20171002_ZCA.jpg</td>\n",
       "      <td>19472_20171002.jpg</td>\n",
       "      <td>2525</td>\n",
       "      <td>{\"name\":\"rect\",\"x\":873,\"y\":558,\"width\":76,\"hei...</td>\n",
       "    </tr>\n",
       "    <tr>\n",
       "      <th>4</th>\n",
       "      <td>1765_20160308_ZCA.jpg</td>\n",
       "      <td>1765_20160308.jpg</td>\n",
       "      <td>1389</td>\n",
       "      <td>{\"name\":\"rect\",\"x\":778,\"y\":190,\"width\":81,\"hei...</td>\n",
       "    </tr>\n",
       "  </tbody>\n",
       "</table>\n",
       "</div>"
      ],
      "text/plain": [
       "                      zca            filename  index  \\\n",
       "0  17610_20140903_ZCA.jpg  17610_20140903.jpg     67   \n",
       "1  17610_20180706_ZCA.jpg  17610_20180706.jpg     79   \n",
       "2   1713_20131114_ZCA.jpg   1713_20131114.jpg   1247   \n",
       "3  19472_20171002_ZCA.jpg  19472_20171002.jpg   2525   \n",
       "4   1765_20160308_ZCA.jpg   1765_20160308.jpg   1389   \n",
       "\n",
       "                             region_shape_attributes  \n",
       "0  {\"name\":\"rect\",\"x\":609,\"y\":634,\"width\":79,\"hei...  \n",
       "1  {\"name\":\"rect\",\"x\":609,\"y\":634,\"width\":79,\"hei...  \n",
       "2  {\"name\":\"rect\",\"x\":818,\"y\":470,\"width\":61,\"hei...  \n",
       "3  {\"name\":\"rect\",\"x\":873,\"y\":558,\"width\":76,\"hei...  \n",
       "4  {\"name\":\"rect\",\"x\":778,\"y\":190,\"width\":81,\"hei...  "
      ]
     },
     "execution_count": 3,
     "metadata": {},
     "output_type": "execute_result"
    }
   ],
   "source": [
    "zca_files = [x for x in filter(lambda x: x.endswith('jpg'), os.listdir(filepath_to_zca_daycares))]\n",
    "print('Total of ZCA files - ', len(zca_files))\n",
    "zca_to_org_map = [(file, file.replace('_ZCA', '')) for file in zca_files]\n",
    "zca_org_df = pd.DataFrame(np.array(zca_to_org_map), columns=['zca', 'filename'])\n",
    "zca_annot_map = pd.merge(zca_org_df, da, on='filename', how='inner').drop_duplicates()\n",
    "# zca_annot_map[zca_annot_map.filename.isin(zca_annot_map[zca_annot_map.duplicated(['filename'])]['filename'].values)]\n",
    "assert len(zca_annot_map) == len(zca_files)\n",
    "zca_annot_map.head(5)"
   ]
  },
  {
   "cell_type": "markdown",
   "metadata": {},
   "source": [
    "## Parse"
   ]
  },
  {
   "cell_type": "code",
   "execution_count": 5,
   "metadata": {},
   "outputs": [],
   "source": [
    "# Annotated output\n",
    "output_annot = []\n",
    "image_paths = []\n",
    "###########################################################################\n",
    "# DAYCARES\n",
    "for r in range(len(da)):\n",
    "    # Check if it has an object\n",
    "    if da.loc[r, 'region_shape_attributes'] != \"{}\":\n",
    "        # filename\n",
    "        filepath = filepath_to_daycares + da.loc[r, 'filename']\n",
    "        imagepath = cwd +'/'+ filepath\n",
    "        filepath_label = filepath_to_daycares + da.loc[r, 'filename'] # both jpg and text need to be in same dir\n",
    "#         filepath_label = filepath_to_labels + da.loc[r, 'filename']\n",
    "        filepath_label = filepath_label.replace('.jpg', '.txt')\n",
    "        img = cv2.imread(filepath)\n",
    "        if not (img is None):\n",
    "            # Get rect attributes\n",
    "            rect = ast.literal_eval(da.loc[r, 'region_shape_attributes'])\n",
    "\n",
    "            height, width, channels = img.shape\n",
    "            rel_x = (rect['x'] + (rect['width'] / 2) )/ width\n",
    "            rel_y = (rect['y'] + (rect['width'] / 2) )/ height\n",
    "            rel_width = rect['width'] / width\n",
    "            rel_height = rect['height'] / height\n",
    "\n",
    "\n",
    "\n",
    "            # class_name (\"0\" = Daycare) as we have only 1 class\n",
    "\n",
    "            current_annot = '{} {} {} {} {}'.format(0, rel_x, rel_y, rel_width, rel_height)\n",
    "            image_paths.append(imagepath)\n",
    "            output_annot.append(current_annot)\n",
    "            # print(filepath_label)\n",
    "            with open(filepath_label, 'w') as f:\n",
    "                f.write(\"%s\\n\" % current_annot)\n",
    "    \n",
    "        else:\n",
    "            print(filepath, ' not found')\n",
    "\n"
   ]
  },
  {
   "cell_type": "code",
   "execution_count": 8,
   "metadata": {},
   "outputs": [],
   "source": [
    "# Annotated output\n",
    "output_annot = []\n",
    "image_paths = []\n",
    "###########################################################################\n",
    "# ZCA _ DAYCARES\n",
    "for r in range(len(zca_annot_map)):\n",
    "    # Check if it has an object\n",
    "    if zca_annot_map.loc[r, 'region_shape_attributes'] != \"{}\":\n",
    "        # filename\n",
    "        filepath = filepath_to_zca_daycares + zca_annot_map.loc[r, 'zca']\n",
    "        imagepath = cwd +'/'+ filepath\n",
    "        filepath_label = filepath_to_zca_daycares + zca_annot_map.loc[r, 'zca'] # both jpg and text need to be in same dir\n",
    "#         filepath_label = filepath_to_labels + da.loc[r, 'filename']\n",
    "        filepath_label = filepath_label.replace('.jpg', '.txt')\n",
    "        img = cv2.imread(filepath)\n",
    "        if not (img is None):\n",
    "            # Get rect attributes\n",
    "            rect = ast.literal_eval(zca_annot_map.loc[r, 'region_shape_attributes'])\n",
    "\n",
    "            height, width, channels = img.shape\n",
    "            rel_x = (rect['x'] + (rect['width'] / 2) )/ width\n",
    "            rel_y = (rect['y'] + (rect['width'] / 2) )/ height\n",
    "            rel_width = rect['width'] / width\n",
    "            rel_height = rect['height'] / height\n",
    "\n",
    "\n",
    "\n",
    "            # class_name (\"0\" = Daycare) as we have only 1 class\n",
    "\n",
    "            current_annot = '{} {} {} {} {}'.format(0, rel_x, rel_y, rel_width, rel_height)\n",
    "            image_paths.append(imagepath)\n",
    "            output_annot.append(current_annot)\n",
    "            # print(filepath_label)\n",
    "            with open(filepath_label, 'w') as f:\n",
    "                f.write(\"%s\\n\" % current_annot)\n",
    "    \n",
    "        else:\n",
    "            print(filepath, ' not found')\n",
    "\n"
   ]
  },
  {
   "cell_type": "code",
   "execution_count": null,
   "metadata": {},
   "outputs": [],
   "source": [
    "###########################################################################\n",
    "# Non DAYCARES\n",
    "nod = os.listdir(filepath_to_nondaycares)\n",
    "for nd in nod:\n",
    "    if nd.endswith('.jpg'):\n",
    "        # filename\n",
    "        current_annot = filepath_to_nondaycares + nd + \",\"\n",
    "        \n",
    "        # x-min (Does not matter for NonDaycare)\n",
    "        current_annot += str(0) + \",\"\n",
    "        # x-max (Does not matter for NonDaycare)\n",
    "        current_annot += str(0) + \",\"\n",
    "        # y-min (Does not matter for NonDaycare)\n",
    "        current_annot += str(0) + \",\"\n",
    "        # y-max (Does not matter for NonDaycare)\n",
    "        current_annot += str(0) + \",\"\n",
    "        \n",
    "        # class_name (\"1\" = Daycare, \"0\" = NonDaycare)\n",
    "        current_annot += \"0\"\n",
    "        \n",
    "        output_annot.append(current_annot)\n"
   ]
  },
  {
   "cell_type": "code",
   "execution_count": null,
   "metadata": {},
   "outputs": [],
   "source": [
    "# Remove duplicates\n",
    "output_annot = list(set(output_annot))\n",
    "image_paths = list(set(image_paths))"
   ]
  },
  {
   "cell_type": "markdown",
   "metadata": {},
   "source": [
    "## Parse smaller dataset filenames"
   ]
  },
  {
   "cell_type": "markdown",
   "metadata": {},
   "source": [
    "## Check output"
   ]
  },
  {
   "cell_type": "code",
   "execution_count": null,
   "metadata": {},
   "outputs": [],
   "source": [
    "len(output_annot)"
   ]
  },
  {
   "cell_type": "code",
   "execution_count": null,
   "metadata": {
    "scrolled": false
   },
   "outputs": [],
   "source": [
    "output_annot"
   ]
  },
  {
   "cell_type": "code",
   "execution_count": null,
   "metadata": {},
   "outputs": [],
   "source": [
    "print(len(image_paths))\n",
    "image_paths"
   ]
  },
  {
   "cell_type": "markdown",
   "metadata": {},
   "source": [
    "## Save to file"
   ]
  },
  {
   "cell_type": "code",
   "execution_count": null,
   "metadata": {},
   "outputs": [],
   "source": [
    "# Save to FILE\n",
    "with open(save_to_file, 'w') as f:\n",
    "    for item in output_annot:\n",
    "        f.write(\"%s\\n\" % item)"
   ]
  },
  {
   "cell_type": "code",
   "execution_count": null,
   "metadata": {},
   "outputs": [],
   "source": [
    "cwd = os.getcwd()\n",
    "# image_paths = []\n",
    "def add_full_path(filename):\n",
    "    image_path = cwd +'/'+ filepath_to_daycares + filename\n",
    "    exists = (os.path.isfile(image_path)) and (os.path.isfile(image_path.replace('.jpg', '.txt')))\n",
    "    if exists:\n",
    "        return image_path\n",
    "\n",
    "train = pd.read_csv('train.csv', header=None)[0].values\n",
    "test = pd.read_csv('test.csv', header=None)[0].values\n",
    "# print(test)\n",
    "train = [add_full_path(x) for x in train if add_full_path(x) is not None]\n",
    "test = [add_full_path(x) for x in test if add_full_path(x) is not None]"
   ]
  },
  {
   "cell_type": "code",
   "execution_count": null,
   "metadata": {},
   "outputs": [],
   "source": [
    "# Save image paths to FILE\n",
    "with open('train.txt', 'w') as f:\n",
    "    for item in train:\n",
    "        f.write(\"%s\\n\" % item)\n",
    "\n",
    "with open('test.txt', 'w') as f:\n",
    "    for item in test:\n",
    "        f.write(\"%s\\n\" % item)\n",
    "\n",
    "with open('all.txt', 'w') as f:\n",
    "    for item in image_paths:\n",
    "        f.write(\"%s\\n\" % item)"
   ]
  }
 ],
 "metadata": {
  "kernelspec": {
   "display_name": "Python 3",
   "language": "python",
   "name": "python3"
  },
  "language_info": {
   "codemirror_mode": {
    "name": "ipython",
    "version": 3
   },
   "file_extension": ".py",
   "mimetype": "text/x-python",
   "name": "python",
   "nbconvert_exporter": "python",
   "pygments_lexer": "ipython3",
   "version": "3.7.3"
  }
 },
 "nbformat": 4,
 "nbformat_minor": 2
}
