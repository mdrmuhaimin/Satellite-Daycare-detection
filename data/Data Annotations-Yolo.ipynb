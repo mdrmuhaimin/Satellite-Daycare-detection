{
 "cells": [
  {
   "cell_type": "code",
   "execution_count": 1,
   "metadata": {},
   "outputs": [],
   "source": [
    "import pandas as pd\n",
    "import numpy as np\n",
    "import ast\n",
    "import os\n",
    "import cv2\n",
    "from os import getcwd"
   ]
  },
  {
   "cell_type": "markdown",
   "metadata": {},
   "source": [
    "## Setup"
   ]
  },
  {
   "cell_type": "code",
   "execution_count": 2,
   "metadata": {},
   "outputs": [],
   "source": [
    "# File with object annotations\n",
    "da = pd.read_csv('DaycaresAnnotations_original.csv')\n",
    "\n",
    "# Filepaths to folders\n",
    "filepath_to_daycares = 'Daycares/'\n",
    "filepath_to_nondaycares = 'NonDaycares/'\n",
    "filepath_to_labels = 'labels/'\n",
    "\n",
    "# Name of file that will have annotations\n",
    "save_to_file = 'annotate.txt'\n",
    "image_path_file = 'all.txt'\n",
    "cwd = getcwd()"
   ]
  },
  {
   "cell_type": "markdown",
   "metadata": {},
   "source": [
    "## Parse"
   ]
  },
  {
   "cell_type": "code",
   "execution_count": null,
   "metadata": {},
   "outputs": [],
   "source": [
    "# Annotated output\n",
    "output_annot = []\n",
    "image_paths = []\n",
    "###########################################################################\n",
    "# DAYCARES\n",
    "for r in range(len(da)):\n",
    "    # Check if it has an object\n",
    "    if da.loc[r, 'region_shape_attributes'] != \"{}\":\n",
    "        # filename\n",
    "        filepath = filepath_to_daycares + da.loc[r, 'filename']\n",
    "        imagepath = cwd +'/'+ filepath\n",
    "        filepath_label = filepath_to_daycares + da.loc[r, 'filename'] # both jpg and text need to be in same dir\n",
    "#         filepath_label = filepath_to_labels + da.loc[r, 'filename']\n",
    "        filepath_label = filepath_label.replace('.jpg', '.txt')\n",
    "        try:\n",
    "            img = cv2.imread(filepath)\n",
    "\n",
    "            # Get rect attributes\n",
    "            rect = ast.literal_eval(da.loc[r, 'region_shape_attributes'])\n",
    "\n",
    "            height, width, channels = img.shape\n",
    "            rel_x = (rect['x'] + (width / 2) )/ width\n",
    "            rel_y = (rect['y'] + (height / 2)/ height\n",
    "            rel_width = rect['width'] / width\n",
    "            rel_height = rect['height'] / height\n",
    "\n",
    "            # print(height, width, channels)\n",
    "            # class_name (\"0\" = Daycare) as we have only 1 class\n",
    "\n",
    "            current_annot = '{} {} {} {} {}'.format(0, rel_x, rel_y, rel_width, rel_height)\n",
    "#             current_annot += \"1\"\n",
    "            image_paths.append(imagepath)\n",
    "            output_annot.append(current_annot)\n",
    "            with open(filepath_label, 'w') as f:\n",
    "                f.write(\"%s\\n\" % current_annot)\n",
    "    \n",
    "        except FileNotFoundError:\n",
    "            print(filepath, ' not found')\n",
    "\n"
   ]
  },
  {
   "cell_type": "code",
   "execution_count": null,
   "metadata": {},
   "outputs": [],
   "source": [
    "###########################################################################\n",
    "# Non DAYCARES\n",
    "nod = os.listdir(filepath_to_nondaycares)\n",
    "for nd in nod:\n",
    "    if nd.endswith('.jpg'):\n",
    "        # filename\n",
    "        current_annot = filepath_to_nondaycares + nd + \",\"\n",
    "        \n",
    "        # x-min (Does not matter for NonDaycare)\n",
    "        current_annot += str(0) + \",\"\n",
    "        # x-max (Does not matter for NonDaycare)\n",
    "        current_annot += str(0) + \",\"\n",
    "        # y-min (Does not matter for NonDaycare)\n",
    "        current_annot += str(0) + \",\"\n",
    "        # y-max (Does not matter for NonDaycare)\n",
    "        current_annot += str(0) + \",\"\n",
    "        \n",
    "        # class_name (\"1\" = Daycare, \"0\" = NonDaycare)\n",
    "        current_annot += \"0\"\n",
    "        \n",
    "        output_annot.append(current_annot)\n"
   ]
  },
  {
   "cell_type": "code",
   "execution_count": null,
   "metadata": {},
   "outputs": [],
   "source": [
    "# Remove duplicates\n",
    "output_annot = list(set(output_annot))\n",
    "image_paths = list(set(image_paths))"
   ]
  },
  {
   "cell_type": "markdown",
   "metadata": {},
   "source": [
    "## Parse smaller dataset filenames"
   ]
  },
  {
   "cell_type": "markdown",
   "metadata": {},
   "source": [
    "## Check output"
   ]
  },
  {
   "cell_type": "code",
   "execution_count": null,
   "metadata": {},
   "outputs": [],
   "source": [
    "len(output_annot)"
   ]
  },
  {
   "cell_type": "code",
   "execution_count": null,
   "metadata": {
    "scrolled": false
   },
   "outputs": [],
   "source": [
    "output_annot"
   ]
  },
  {
   "cell_type": "code",
   "execution_count": null,
   "metadata": {},
   "outputs": [],
   "source": [
    "print(len(image_paths))\n",
    "image_paths"
   ]
  },
  {
   "cell_type": "markdown",
   "metadata": {},
   "source": [
    "## Save to file"
   ]
  },
  {
   "cell_type": "code",
   "execution_count": null,
   "metadata": {},
   "outputs": [],
   "source": [
    "# Save to FILE\n",
    "with open(save_to_file, 'w') as f:\n",
    "    for item in output_annot:\n",
    "        f.write(\"%s\\n\" % item)"
   ]
  },
  {
   "cell_type": "code",
   "execution_count": null,
   "metadata": {},
   "outputs": [],
   "source": [
    "cwd = os.getcwd()\n",
    "# image_paths = []\n",
    "def add_full_path(filename):\n",
    "    image_path = cwd +'/'+ filepath_to_daycares + filename\n",
    "    exists = (os.path.isfile(image_path)) and (os.path.isfile(image_path.replace('.jpg', '.txt')))\n",
    "    if exists:\n",
    "        return image_path\n",
    "\n",
    "train = pd.read_csv('train.csv', header=None)[0].values\n",
    "test = pd.read_csv('test.csv', header=None)[0].values\n",
    "# print(test)\n",
    "train = [add_full_path(x) for x in train if add_full_path(x) is not None]\n",
    "test = [add_full_path(x) for x in test if add_full_path(x) is not None]"
   ]
  },
  {
   "cell_type": "code",
   "execution_count": null,
   "metadata": {},
   "outputs": [],
   "source": [
    "# Save image paths to FILE\n",
    "with open('train.txt', 'w') as f:\n",
    "    for item in train:\n",
    "        f.write(\"%s\\n\" % item)\n",
    "\n",
    "with open('test.txt', 'w') as f:\n",
    "    for item in test:\n",
    "        f.write(\"%s\\n\" % item)\n",
    "\n",
    "with open('all.txt', 'w') as f:\n",
    "    for item in image_paths:\n",
    "        f.write(\"%s\\n\" % item)"
   ]
  }
 ],
 "metadata": {
  "kernelspec": {
   "display_name": "Python 3",
   "language": "python",
   "name": "python3"
  },
  "language_info": {
   "codemirror_mode": {
    "name": "ipython",
    "version": 3
   },
   "file_extension": ".py",
   "mimetype": "text/x-python",
   "name": "python",
   "nbconvert_exporter": "python",
   "pygments_lexer": "ipython3",
   "version": "3.7.3"
  }
 },
 "nbformat": 4,
 "nbformat_minor": 2
}
